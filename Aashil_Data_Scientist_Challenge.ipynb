{
 "cells": [
  {
   "cell_type": "markdown",
   "metadata": {},
   "source": [
    "# Aashil Patel | aashil@aashilpatel.com"
   ]
  },
  {
   "cell_type": "code",
   "execution_count": 1,
   "metadata": {
    "collapsed": false,
    "scrolled": true
   },
   "outputs": [],
   "source": [
    "import pandas as pd\n",
    "import numpy as np\n",
    "import matplotlib.pyplot as plt\n",
    "import pylab as pl\n",
    "import plotly.plotly as py\n",
    "%matplotlib inline"
   ]
  },
  {
   "cell_type": "markdown",
   "metadata": {},
   "source": [
    "## Reading the data"
   ]
  },
  {
   "cell_type": "code",
   "execution_count": 2,
   "metadata": {
    "collapsed": true
   },
   "outputs": [],
   "source": [
    "articles = pd.read_csv(\"./data/articles.csv\")\n",
    "email_content = pd.read_csv(\"./data/email_content.csv\")\n",
    "topics = pd.read_csv(\"./data/topics.csv\")\n",
    "types = pd.read_csv(\"./data/types.csv\")\n",
    "users = pd.read_csv(\"./data/users.csv\")\n",
    "logs = pd.read_csv(\"./data/access.log\", delim_whitespace=True)"
   ]
  },
  {
   "cell_type": "markdown",
   "metadata": {},
   "source": [
    "## Brief look at the data"
   ]
  },
  {
   "cell_type": "code",
   "execution_count": 3,
   "metadata": {
    "collapsed": false
   },
   "outputs": [
    {
     "data": {
      "text/html": [
       "<div>\n",
       "<table border=\"1\" class=\"dataframe\">\n",
       "  <thead>\n",
       "    <tr style=\"text-align: right;\">\n",
       "      <th></th>\n",
       "      <th>[02/Jan/2015:08:07:32]</th>\n",
       "      <th>GET /click?article_id=162&amp;user_id=5475 HTTP/1.1</th>\n",
       "      <th>200</th>\n",
       "      <th>4352</th>\n",
       "    </tr>\n",
       "  </thead>\n",
       "  <tbody>\n",
       "    <tr>\n",
       "      <th>0</th>\n",
       "      <td>[02/Jan/2015:08:08:43]</td>\n",
       "      <td>GET /click?article_id=139&amp;user_id=19550 HTTP/1.1</td>\n",
       "      <td>200</td>\n",
       "      <td>3078</td>\n",
       "    </tr>\n",
       "    <tr>\n",
       "      <th>1</th>\n",
       "      <td>[02/Jan/2015:08:09:01]</td>\n",
       "      <td>GET /click?article_id=87&amp;user_id=9408 HTTP/1.1</td>\n",
       "      <td>200</td>\n",
       "      <td>2005</td>\n",
       "    </tr>\n",
       "  </tbody>\n",
       "</table>\n",
       "</div>"
      ],
      "text/plain": [
       "   [02/Jan/2015:08:07:32]   GET /click?article_id=162&user_id=5475 HTTP/1.1  \\\n",
       "0  [02/Jan/2015:08:08:43]  GET /click?article_id=139&user_id=19550 HTTP/1.1   \n",
       "1  [02/Jan/2015:08:09:01]    GET /click?article_id=87&user_id=9408 HTTP/1.1   \n",
       "\n",
       "   200  4352  \n",
       "0  200  3078  \n",
       "1  200  2005  "
      ]
     },
     "execution_count": 3,
     "metadata": {},
     "output_type": "execute_result"
    }
   ],
   "source": [
    "articles.head(2)\n",
    "email_content.head(2)\n",
    "topics.head(2)\n",
    "types.head(2)\n",
    "users.head(2)\n",
    "logs.head(2)"
   ]
  },
  {
   "cell_type": "markdown",
   "metadata": {},
   "source": [
    "## Pre-processing the Access Log data"
   ]
  },
  {
   "cell_type": "code",
   "execution_count": 4,
   "metadata": {
    "collapsed": true
   },
   "outputs": [],
   "source": [
    "logs = logs.rename(columns={'[02/Jan/2015:08:07:32]' : 'timestamp',\n",
    "                            'GET /click?article_id=162&user_id=5475 HTTP/1.1' : 'link',\n",
    "                            '200': 'status_code',\n",
    "                            '4352' : 'byte_size',\n",
    "                           })\n",
    "logs.insert(loc=1, column='article_id', value='')\n",
    "logs.insert(loc=2, column='user_id', value='')\n",
    "logs['link'] = logs['link'].apply(lambda x: x.strip('GET /click?'))\n",
    "logs['link'] = logs['link'].apply(lambda x: x.strip('HTTP/1.1'))\n",
    "logs['article_id'], logs['user_id'] = zip(*logs['link'].apply(lambda x: x.split('&')))\n",
    "logs['article_id'] = logs['article_id'].apply(lambda x: x.strip('article_id='))\n",
    "logs['user_id'] = logs['user_id'].apply(lambda x: x.strip('user_id='))\n",
    "logs = logs.drop('link', 1)\n",
    "logs.article_id = logs.article_id.astype(np.int64)\n",
    "logs.user_id = logs.user_id.astype(np.int64)"
   ]
  },
  {
   "cell_type": "code",
   "execution_count": 5,
   "metadata": {
    "collapsed": false
   },
   "outputs": [
    {
     "data": {
      "text/html": [
       "<div>\n",
       "<table border=\"1\" class=\"dataframe\">\n",
       "  <thead>\n",
       "    <tr style=\"text-align: right;\">\n",
       "      <th></th>\n",
       "      <th>timestamp</th>\n",
       "      <th>article_id</th>\n",
       "      <th>user_id</th>\n",
       "      <th>status_code</th>\n",
       "      <th>byte_size</th>\n",
       "    </tr>\n",
       "  </thead>\n",
       "  <tbody>\n",
       "    <tr>\n",
       "      <th>0</th>\n",
       "      <td>[02/Jan/2015:08:08:43]</td>\n",
       "      <td>139</td>\n",
       "      <td>19550</td>\n",
       "      <td>200</td>\n",
       "      <td>3078</td>\n",
       "    </tr>\n",
       "    <tr>\n",
       "      <th>1</th>\n",
       "      <td>[02/Jan/2015:08:09:01]</td>\n",
       "      <td>87</td>\n",
       "      <td>9408</td>\n",
       "      <td>200</td>\n",
       "      <td>2005</td>\n",
       "    </tr>\n",
       "  </tbody>\n",
       "</table>\n",
       "</div>"
      ],
      "text/plain": [
       "                timestamp  article_id  user_id  status_code  byte_size\n",
       "0  [02/Jan/2015:08:08:43]         139    19550          200       3078\n",
       "1  [02/Jan/2015:08:09:01]          87     9408          200       2005"
      ]
     },
     "execution_count": 5,
     "metadata": {},
     "output_type": "execute_result"
    }
   ],
   "source": [
    "logs.head(2)"
   ]
  },
  {
   "cell_type": "markdown",
   "metadata": {},
   "source": [
    "## Removing errorneous log data"
   ]
  },
  {
   "cell_type": "code",
   "execution_count": 6,
   "metadata": {
    "collapsed": false
   },
   "outputs": [],
   "source": [
    "a_id = logs.loc[logs['article_id'] <= 17029].groupby('article_id')['article_id'].count()"
   ]
  },
  {
   "cell_type": "code",
   "execution_count": 7,
   "metadata": {
    "collapsed": false
   },
   "outputs": [],
   "source": [
    "a_id.sort_values(inplace=True, ascending=False)"
   ]
  },
  {
   "cell_type": "code",
   "execution_count": 8,
   "metadata": {
    "collapsed": false
   },
   "outputs": [],
   "source": [
    "top_articles = []\n",
    "for x in a_id:\n",
    "    top_articles.append(a_id[a_id == x].index[0])"
   ]
  },
  {
   "cell_type": "code",
   "execution_count": 9,
   "metadata": {
    "collapsed": false
   },
   "outputs": [],
   "source": [
    "top_topics = []\n",
    "top_types = []\n",
    "top_authors = []\n",
    "\n",
    "for x in top_articles:\n",
    "    top_topics.append(articles[articles.article_id == x]['topic_id'].tolist()[0])\n",
    "    top_types.append(articles[articles.article_id == x]['type_id'].tolist()[0])\n",
    "    top_authors.append(articles[articles.article_id == x]['author_id'].tolist()[0])"
   ]
  },
  {
   "cell_type": "code",
   "execution_count": 10,
   "metadata": {
    "collapsed": false
   },
   "outputs": [],
   "source": [
    "top_articles = pd.Series(top_articles)\n",
    "top_topics = pd.Series(top_topics)\n",
    "top_types = pd.Series(top_types)\n",
    "top_authors = pd.Series(top_authors)"
   ]
  },
  {
   "cell_type": "code",
   "execution_count": 11,
   "metadata": {
    "collapsed": false
   },
   "outputs": [],
   "source": [
    "top_topics = top_topics.value_counts()\n",
    "top_types = top_types.value_counts()\n",
    "top_authors = top_authors.value_counts()"
   ]
  },
  {
   "cell_type": "code",
   "execution_count": 12,
   "metadata": {
    "collapsed": false
   },
   "outputs": [],
   "source": [
    "top_10_articles = a_id.head(10)\n",
    "top_10_topics = top_topics.head(10)\n",
    "top_10_types = top_types.head(10)\n",
    "top_10_authors = top_authors.head(10)"
   ]
  },
  {
   "cell_type": "markdown",
   "metadata": {},
   "source": [
    "# Data Visualization"
   ]
  },
  {
   "cell_type": "markdown",
   "metadata": {},
   "source": [
    "## Top 10 topics with highest clicks"
   ]
  },
  {
   "cell_type": "code",
   "execution_count": 13,
   "metadata": {
    "collapsed": false,
    "scrolled": true
   },
   "outputs": [
    {
     "name": "stdout",
     "output_type": "stream",
     "text": [
      "Entrepreneurship\n",
      "Growth Hacking\n",
      "Web Marketing\n",
      "Motivational\n",
      "Economic History\n",
      "Advertising\n",
      "Leadership\n",
      "Budgeting\n",
      "Biography\n",
      "Consumer Behavior\n"
     ]
    }
   ],
   "source": [
    "for x in top_10_topics.iteritems():\n",
    "    print topics[topics.topic_id == x[0]]['name'].tolist()[0]"
   ]
  },
  {
   "cell_type": "code",
   "execution_count": 14,
   "metadata": {
    "collapsed": false
   },
   "outputs": [
    {
     "data": {
      "text/plain": [
       "<matplotlib.text.Text at 0x40b5eb70>"
      ]
     },
     "execution_count": 14,
     "metadata": {},
     "output_type": "execute_result"
    },
    {
     "data": {
      "image/png": "[encoded data removed]",
      "text/plain": [
       "<matplotlib.figure.Figure at 0x2b01ccf8>"
      ]
     },
     "metadata": {},
     "output_type": "display_data"
    }
   ],
   "source": [
    "plt.figure(figsize=(15,10))\n",
    "plot = top_10_topics.plot(kind='bar')\n",
    "plot.set_xticklabels([\"Entrepreneurship\",\"Growth Hacking\",\"Web Marketing\",\"Motivational\",\"Economic History\",\"Advertising\",\"Leadership\",\n",
    "                      \"Budgeting\",\"Biography\",\"Consumer Behavior\"])\n",
    "plot.set_xlabel(\"Topics\")\n",
    "plot.set_ylabel(\"Number of clicks\")"
   ]
  },
  {
   "cell_type": "markdown",
   "metadata": {},
   "source": [
    "## Top 10 types of content with highest clicks"
   ]
  },
  {
   "cell_type": "code",
   "execution_count": 15,
   "metadata": {
    "collapsed": false
   },
   "outputs": [
    {
     "name": "stdout",
     "output_type": "stream",
     "text": [
      "News\n",
      "List\n",
      "Summary\n",
      "Blog Post\n",
      "How-To\n",
      "Podcast\n",
      "White paper\n",
      "Comment\n",
      "Webinar\n",
      "Data and Statistics\n"
     ]
    }
   ],
   "source": [
    "for x in top_10_types.iteritems():\n",
    "    print types[types.type_id == x[0]]['name'].tolist()[0]"
   ]
  },
  {
   "cell_type": "code",
   "execution_count": 16,
   "metadata": {
    "collapsed": false
   },
   "outputs": [
    {
     "data": {
      "text/plain": [
       "<matplotlib.text.Text at 0x371c9fd0>"
      ]
     },
     "execution_count": 16,
     "metadata": {},
     "output_type": "execute_result"
    },
    {
     "data": {
      "image/png": "[encoded data removed]",
      "text/plain": [
       "<matplotlib.figure.Figure at 0x623712e8>"
      ]
     },
     "metadata": {},
     "output_type": "display_data"
    }
   ],
   "source": [
    "plt.figure(figsize=(15,10))\n",
    "plot = top_10_types.plot(kind='bar')\n",
    "plot.set_xticklabels([\"News\",\"List\",\"Summary\",\"Blog Post\",\"How-To\",\"Podcast\",\"White paper\",\"Comment\",\"Webinar\",\n",
    "\"Data and Statistics\"])\n",
    "plot.set_xlabel(\"Types\")\n",
    "plot.set_ylabel(\"Number of clicks\")"
   ]
  },
  {
   "cell_type": "markdown",
   "metadata": {},
   "source": [
    "## Top 10 users with most clickable contribution"
   ]
  },
  {
   "cell_type": "code",
   "execution_count": 17,
   "metadata": {
    "collapsed": false
   },
   "outputs": [
    {
     "name": "stdout",
     "output_type": "stream",
     "text": [
      "kevin.montez@icedh.com\n",
      "dennis.hooker@fvrya.com\n",
      "jason.williams@ygfbg.com\n",
      "charlie.hansen@juzai.com\n",
      "clifford.faust@xnoid.com\n",
      "maximo.lindsey@eytkr.com\n",
      "misty.labelle@crorv.com\n",
      "kathryn.myers@qbmxo.com\n",
      "rebecca.matthews@xdato.com\n",
      "joseph.gallagher@phjue.com\n"
     ]
    }
   ],
   "source": [
    "for x in top_10_authors.iteritems():\n",
    "    print users[users.user_id == x[0]]['email'].tolist()[0]"
   ]
  },
  {
   "cell_type": "code",
   "execution_count": 18,
   "metadata": {
    "collapsed": false
   },
   "outputs": [
    {
     "data": {
      "text/plain": [
       "<matplotlib.text.Text at 0x3766a0f0>"
      ]
     },
     "execution_count": 18,
     "metadata": {},
     "output_type": "execute_result"
    },
    {
     "data": {
      "image/png": "[encoded data removed]",
      "text/plain": [
       "<matplotlib.figure.Figure at 0x371e9358>"
      ]
     },
     "metadata": {},
     "output_type": "display_data"
    }
   ],
   "source": [
    "plt.figure(figsize=(15,10))\n",
    "plot = top_10_authors.plot(kind='bar')\n",
    "plot.set_xticklabels([\"michelle.nieves@mxsed.com\",\"lauren.horner@yggoe.com\",\"guy.love@cmqfu.com\",\n",
    "\"marcus.halverson@svmip.com\",\"karin.williams@kyebn.com\",\"digna.duggan@cktps.com\",\"gustavo.aguilar@qyzva.com\",\n",
    "\"patrick.espinosa@stgyv.com\",\"lori.gallo@xxzxo.com\",\"john.spencer@dyuor.com\"\n",
    "                     ])\n",
    "plot.set_xlabel(\"Users\")\n",
    "plot.set_ylabel(\"Number of clicks\")"
   ]
  }
 ],
 "metadata": {
  "kernelspec": {
   "display_name": "Python 2",
   "language": "python",
   "name": "python2"
  },
  "language_info": {
   "codemirror_mode": {
    "name": "ipython",
    "version": 2
   },
   "file_extension": ".py",
   "mimetype": "text/x-python",
   "name": "python",
   "nbconvert_exporter": "python",
   "pygments_lexer": "ipython2",
   "version": "2.7.11"
  }
 },
 "nbformat": 4,
 "nbformat_minor": 0
}
